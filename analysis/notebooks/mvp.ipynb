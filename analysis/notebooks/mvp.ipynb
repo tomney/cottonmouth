{
 "cells": [
  {
   "cell_type": "code",
   "execution_count": 54,
   "metadata": {},
   "outputs": [],
   "source": [
    "import sys\n",
    "sys.path.append(\"/Users/gregorytomney/Projects/cottonmouth/analysis\")"
   ]
  },
  {
   "cell_type": "code",
   "execution_count": 55,
   "metadata": {},
   "outputs": [],
   "source": [
    "import pandas as pd\n",
    "import numpy as np\n",
    "from sklearn import datasets, linear_model, preprocessing\n",
    "from sklearn.model_selection import train_test_split\n",
    "from sklearn.feature_selection import RFE\n",
    "import matplotlib\n",
    "\n",
    "from common.auth import get_credentials\n"
   ]
  },
  {
   "cell_type": "code",
   "execution_count": 56,
   "metadata": {},
   "outputs": [],
   "source": [
    "# Setup params for call to BQ\n",
    "unique_results_query = \"\"\"SELECT \n",
    "    id, \n",
    "    ast, \n",
    "    blk, \n",
    "    dreb, \n",
    "    fg3a, \n",
    "    fg3m, \n",
    "    fga, \n",
    "    fgm, \n",
    "    fta, \n",
    "    ftm, \n",
    "    game_id, \n",
    "    game_date, \n",
    "    game_home_team_id, \n",
    "    game_home_team_score, \n",
    "    game_period, \n",
    "    game_postseason, \n",
    "    game_season, \n",
    "    game_status, \n",
    "    game_time, \n",
    "    game_visitor_team_id,\n",
    "    game_visitor_team_score, \n",
    "    min, \n",
    "    oreb, \n",
    "    pf, \n",
    "    player_id, \n",
    "    player_first_name, \n",
    "    player_height_feet, \n",
    "    player_height_inches, \n",
    "    player_last_name, \n",
    "    player_position, \n",
    "    player_team_id, \n",
    "    player_weight_pounds, \n",
    "    pts, \n",
    "    reb, \n",
    "    stl,\n",
    "    team_id, \n",
    "    team_abbreviation, \n",
    "    team_city, \n",
    "    team_conference, \n",
    "    team_division,\n",
    "    team_full_name, \n",
    "    team_name, \n",
    "    turnover \n",
    "FROM `bolg-229922.cell_the_team.player_game_unique`\n",
    "LIMIT 1000\n",
    "\"\"\"\n",
    "\n",
    "credentials = get_credentials()"
   ]
  },
  {
   "cell_type": "code",
   "execution_count": 57,
   "metadata": {},
   "outputs": [],
   "source": [
    "result_set = pd.read_gbq(unique_results_query)"
   ]
  },
  {
   "cell_type": "code",
   "execution_count": 58,
   "metadata": {},
   "outputs": [
    {
     "data": {
      "text/plain": [
       "<AxesSubplot:ylabel='Frequency'>"
      ]
     },
     "execution_count": 58,
     "metadata": {},
     "output_type": "execute_result"
    },
    {
     "data": {
      "image/png": "[encoded data removed]",
      "text/plain": [
       "<Figure size 432x288 with 1 Axes>"
      ]
     },
     "metadata": {
      "needs_background": "light"
     },
     "output_type": "display_data"
    }
   ],
   "source": [
    "result_set.head(n=5)\n",
    "result_set['fg3a'] = result_set['fg3a'].replace('None', np.nan)\n",
    "result_set['fg3a'] = result_set['fg3a'].astype(float)\n",
    "result_set['fg3a'].plot(kind=\"hist\")"
   ]
  }
 ],
 "metadata": {
  "interpreter": {
   "hash": "7a307cccb392ec2f290fa696bc94cd67f5892fde8af39fa1104bffeb2f06f2b4"
  },
  "kernelspec": {
   "display_name": "Python 3.8.2 64-bit ('analysis-G99Zi0rs': pipenv)",
   "language": "python",
   "name": "python3"
  },
  "language_info": {
   "codemirror_mode": {
    "name": "ipython",
    "version": 3
   },
   "file_extension": ".py",
   "mimetype": "text/x-python",
   "name": "python",
   "nbconvert_exporter": "python",
   "pygments_lexer": "ipython3",
   "version": "3.8.2"
  },
  "orig_nbformat": 4
 },
 "nbformat": 4,
 "nbformat_minor": 2
}
